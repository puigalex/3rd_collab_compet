{
 "cells": [
  {
   "cell_type": "code",
   "execution_count": 1,
   "metadata": {},
   "outputs": [],
   "source": [
    "from unityagents import UnityEnvironment\n",
    "import numpy as np\n",
    "import torch\n",
    "from maddpg import MADDPG\n",
    "from ddpg import ReplayBuffer\n",
    "from IPython.display import display, clear_output\n",
    "from collections import deque\n",
    "import matplotlib.pyplot as plt\n",
    "import numpy as np "
   ]
  },
  {
   "cell_type": "code",
   "execution_count": 2,
   "metadata": {
    "collapsed": true
   },
   "outputs": [
    {
     "name": "stderr",
     "output_type": "stream",
     "text": [
      "INFO:unityagents:\n",
      "'Academy' started successfully!\n",
      "Unity Academy name: Academy\n",
      "        Number of Brains: 1\n",
      "        Number of External Brains : 1\n",
      "        Lesson number : 0\n",
      "        Reset Parameters :\n",
      "\t\t\n",
      "Unity brain name: TennisBrain\n",
      "        Number of Visual Observations (per agent): 0\n",
      "        Vector Observation space type: continuous\n",
      "        Vector Observation space size (per agent): 8\n",
      "        Number of stacked Vector Observation: 3\n",
      "        Vector Action space type: continuous\n",
      "        Vector Action space size (per agent): 2\n",
      "        Vector Action descriptions: , \n"
     ]
    },
    {
     "name": "stdout",
     "output_type": "stream",
     "text": [
      "No. Agents 2 State Size  48 Action Space  2\n"
     ]
    }
   ],
   "source": [
    "env = UnityEnvironment(file_name=\"Tennis_Linux/Tennis.x86_64\")        \n",
    "brain_name = env.brain_names[0]\n",
    "brain = env.brains[brain_name]\n",
    "env_info = env.reset(train_mode=False)[brain_name]\n",
    "action_space = brain.vector_action_space_size\n",
    "states = env_info.vector_observations\n",
    "state_size = states.flatten().shape[0]\n",
    "obs_size = states.shape[1]\n",
    "\n",
    "num_agents = len(env_info.agents)\n",
    "print(\"No. Agents\", num_agents, \"State Size \", state_size, \"Action Space \", action_space)\n"
   ]
  },
  {
   "cell_type": "code",
   "execution_count": 3,
   "metadata": {},
   "outputs": [],
   "source": [
    "maddpg = MADDPG(state_size, obs_size, action_space, num_agents)"
   ]
  },
  {
   "cell_type": "code",
   "execution_count": 4,
   "metadata": {
    "collapsed": true
   },
   "outputs": [
    {
     "ename": "KeyboardInterrupt",
     "evalue": "",
     "output_type": "error",
     "traceback": [
      "\u001b[0;31m---------------------------------------------------------------------------\u001b[0m",
      "\u001b[0;31mKeyboardInterrupt\u001b[0m                         Traceback (most recent call last)",
      "\u001b[0;32m<ipython-input-4-c9703a07b168>\u001b[0m in \u001b[0;36m<module>\u001b[0;34m\u001b[0m\n\u001b[1;32m     30\u001b[0m             \u001b[0;32mfor\u001b[0m \u001b[0mid_ag\u001b[0m \u001b[0;32min\u001b[0m \u001b[0mrange\u001b[0m\u001b[0;34m(\u001b[0m\u001b[0mnum_agents\u001b[0m\u001b[0;34m)\u001b[0m\u001b[0;34m:\u001b[0m\u001b[0;34m\u001b[0m\u001b[0;34m\u001b[0m\u001b[0m\n\u001b[1;32m     31\u001b[0m                 \u001b[0msamples\u001b[0m \u001b[0;34m=\u001b[0m \u001b[0mbuffer\u001b[0m\u001b[0;34m.\u001b[0m\u001b[0msample\u001b[0m\u001b[0;34m(\u001b[0m\u001b[0;34m)\u001b[0m\u001b[0;34m\u001b[0m\u001b[0;34m\u001b[0m\u001b[0m\n\u001b[0;32m---> 32\u001b[0;31m                 \u001b[0mmaddpg\u001b[0m\u001b[0;34m.\u001b[0m\u001b[0mupdate\u001b[0m\u001b[0;34m(\u001b[0m\u001b[0msamples\u001b[0m\u001b[0;34m,\u001b[0m \u001b[0mid_ag\u001b[0m\u001b[0;34m)\u001b[0m\u001b[0;34m\u001b[0m\u001b[0;34m\u001b[0m\u001b[0m\n\u001b[0m\u001b[1;32m     33\u001b[0m             \u001b[0mmaddpg\u001b[0m\u001b[0;34m.\u001b[0m\u001b[0msoft_update_targets\u001b[0m\u001b[0;34m(\u001b[0m\u001b[0;34m)\u001b[0m\u001b[0;34m\u001b[0m\u001b[0;34m\u001b[0m\u001b[0m\n\u001b[1;32m     34\u001b[0m         \u001b[0;32mif\u001b[0m \u001b[0mnp\u001b[0m\u001b[0;34m.\u001b[0m\u001b[0many\u001b[0m\u001b[0;34m(\u001b[0m\u001b[0mdones\u001b[0m\u001b[0;34m)\u001b[0m\u001b[0;34m:\u001b[0m\u001b[0;34m\u001b[0m\u001b[0;34m\u001b[0m\u001b[0m\n",
      "\u001b[0;32m~/Documents/UDACITY/3rd_collab_compet/maddpg.py\u001b[0m in \u001b[0;36mupdate\u001b[0;34m(self, samples, agent_number)\u001b[0m\n\u001b[1;32m     91\u001b[0m         \u001b[0mactor_loss\u001b[0m\u001b[0;34m.\u001b[0m\u001b[0mbackward\u001b[0m\u001b[0;34m(\u001b[0m\u001b[0;34m)\u001b[0m\u001b[0;34m\u001b[0m\u001b[0;34m\u001b[0m\u001b[0m\n\u001b[1;32m     92\u001b[0m         \u001b[0;31m#torch.nn.utils.clip_grad_norm_(agent.actor.parameters(),0.5)\u001b[0m\u001b[0;34m\u001b[0m\u001b[0;34m\u001b[0m\u001b[0;34m\u001b[0m\u001b[0m\n\u001b[0;32m---> 93\u001b[0;31m         \u001b[0magent\u001b[0m\u001b[0;34m.\u001b[0m\u001b[0mactor_optimizer\u001b[0m\u001b[0;34m.\u001b[0m\u001b[0mstep\u001b[0m\u001b[0;34m(\u001b[0m\u001b[0;34m)\u001b[0m\u001b[0;34m\u001b[0m\u001b[0;34m\u001b[0m\u001b[0m\n\u001b[0m\u001b[1;32m     94\u001b[0m \u001b[0;34m\u001b[0m\u001b[0m\n\u001b[1;32m     95\u001b[0m     \u001b[0;32mdef\u001b[0m \u001b[0msoft_update_targets\u001b[0m\u001b[0;34m(\u001b[0m\u001b[0mself\u001b[0m\u001b[0;34m)\u001b[0m\u001b[0;34m:\u001b[0m\u001b[0;34m\u001b[0m\u001b[0;34m\u001b[0m\u001b[0m\n",
      "\u001b[0;32m~/anaconda3/envs/drlnd/lib/python3.6/site-packages/torch/optim/adam.py\u001b[0m in \u001b[0;36mstep\u001b[0;34m(self, closure)\u001b[0m\n\u001b[1;32m     90\u001b[0m \u001b[0;34m\u001b[0m\u001b[0m\n\u001b[1;32m     91\u001b[0m                 \u001b[0;31m# Decay the first and second moment running average coefficient\u001b[0m\u001b[0;34m\u001b[0m\u001b[0;34m\u001b[0m\u001b[0;34m\u001b[0m\u001b[0m\n\u001b[0;32m---> 92\u001b[0;31m                 \u001b[0mexp_avg\u001b[0m\u001b[0;34m.\u001b[0m\u001b[0mmul_\u001b[0m\u001b[0;34m(\u001b[0m\u001b[0mbeta1\u001b[0m\u001b[0;34m)\u001b[0m\u001b[0;34m.\u001b[0m\u001b[0madd_\u001b[0m\u001b[0;34m(\u001b[0m\u001b[0;36m1\u001b[0m \u001b[0;34m-\u001b[0m \u001b[0mbeta1\u001b[0m\u001b[0;34m,\u001b[0m \u001b[0mgrad\u001b[0m\u001b[0;34m)\u001b[0m\u001b[0;34m\u001b[0m\u001b[0;34m\u001b[0m\u001b[0m\n\u001b[0m\u001b[1;32m     93\u001b[0m                 \u001b[0mexp_avg_sq\u001b[0m\u001b[0;34m.\u001b[0m\u001b[0mmul_\u001b[0m\u001b[0;34m(\u001b[0m\u001b[0mbeta2\u001b[0m\u001b[0;34m)\u001b[0m\u001b[0;34m.\u001b[0m\u001b[0maddcmul_\u001b[0m\u001b[0;34m(\u001b[0m\u001b[0;36m1\u001b[0m \u001b[0;34m-\u001b[0m \u001b[0mbeta2\u001b[0m\u001b[0;34m,\u001b[0m \u001b[0mgrad\u001b[0m\u001b[0;34m,\u001b[0m \u001b[0mgrad\u001b[0m\u001b[0;34m)\u001b[0m\u001b[0;34m\u001b[0m\u001b[0;34m\u001b[0m\u001b[0m\n\u001b[1;32m     94\u001b[0m                 \u001b[0;32mif\u001b[0m \u001b[0mamsgrad\u001b[0m\u001b[0;34m:\u001b[0m\u001b[0;34m\u001b[0m\u001b[0;34m\u001b[0m\u001b[0m\n",
      "\u001b[0;31mKeyboardInterrupt\u001b[0m: "
     ]
    }
   ],
   "source": [
    "buffer = ReplayBuffer()\n",
    "num_episodes = 10000\n",
    "update_every = 1\n",
    "scores = []\n",
    "scores_avg_window = deque(maxlen=100)\n",
    "scores_avg = []\n",
    "save_every = 100\n",
    "\n",
    "for episode in range(1, num_episodes+1):\n",
    "    for agent in maddpg.maddpg_agent:\n",
    "        agent.noise.reset()\n",
    "    clear_output(wait=True)\n",
    "    env_info = env.reset(train_mode=True)[brain_name] \n",
    "    obs = env_info.vector_observations\n",
    "    state = obs.flatten()                       \n",
    "    local_scores = np.zeros(num_agents)                          \n",
    "    while True:\n",
    "        actions = maddpg.act(obs)\n",
    "        actions = [ a.cpu().data.numpy() for a in actions]\n",
    "        actions_ = np.clip(actions, -1, 1)\n",
    "        env_info_ = env.step(actions_)[brain_name]        \n",
    "        next_obs = env_info_.vector_observations           \n",
    "        next_state = next_obs.flatten()\n",
    "        rewards = env_info_.rewards                             \n",
    "        dones = env_info_.local_done   \n",
    "        buffer.insert(obs, state, actions, rewards, next_obs, next_state, dones)\n",
    "        local_scores += rewards\n",
    "        obs, state = next_obs, next_state\n",
    "        if len(buffer) > 1024 and episode%update_every==0:\n",
    "            for id_ag in range(num_agents):\n",
    "                samples = buffer.sample()\n",
    "                maddpg.update(samples, id_ag)\n",
    "            maddpg.soft_update_targets() \n",
    "        if np.any(dones): \n",
    "            break\n",
    "    episode_reward = np.max(local_scores)\n",
    "    scores.append(episode_reward)\n",
    "    scores_avg_window.append(episode_reward)\n",
    "    scores_avg.append(np.mean(scores_avg_window))\n",
    "    print('Episode {}: Average Score {}, Score (max over agents) {}'.format(episode, \n",
    "                                                                            np.mean(scores_avg_window), \n",
    "                                                                            np.max(scores)))\n",
    "\n",
    "    if save_every%episode ==0:\n",
    "        print(\"Saving checkpoint\")\n",
    "        for agent_id, agente in enumerate(maddpg.maddpg_agent):\n",
    "            torch.save(agente.actor.state_dict(),         'ckpt_actor_{}.pth'.format(agent_id))\n",
    "            torch.save(agente.target_actor.state_dict(),  'ckpt_target_actor_{}.pth'.format(agent_id))\n",
    "            torch.save(agente.critic.state_dict(),        'ckpt_critic_{}.pth'.format(agent_id))\n",
    "            torch.save(agente.target_critic.state_dict(), 'ckpt_target_critic_{}.pth'.format(agent_id))\n",
    "        \n",
    "    if np.mean(scores_avg_window)>=0.5 and len(scores_avg) >= 100:\n",
    "        print(\"Task completed at episode {}\".format(episode))\n",
    "        print(\"#############Saving successful agents#############\")\n",
    "        for agent_id, agente in enumerate(maddpg.maddpg_agent):\n",
    "            torch.save(agente.actor.state_dict(), 'success_ckpt_actor_{}.pth'.format(agent_id))\n",
    "            torch.save(agente.target_actor.state_dict(), 'success_ckpt_target_actor_{}.pth'.format(agent_id))\n",
    "            torch.save(agente.critic.state_dict(),'success_ckpt_critic_{}.pth'.format(agent_id))\n",
    "            torch.save(agente.target_critic.state_dict(),'success_ckpt_target_critic_{}.pth'.format(agent_id))"
   ]
  },
  {
   "cell_type": "markdown",
   "metadata": {},
   "source": [
    "# There is a KeyboardInterrupt error above because I stoped the training killing the cell once I saw that the agent was fully trained and was taking longer than I expected :)"
   ]
  },
  {
   "cell_type": "code",
   "execution_count": 6,
   "metadata": {},
   "outputs": [
    {
     "data": {
      "image/png": "[encoded data removed]",
      "text/plain": [
       "<Figure size 432x288 with 1 Axes>"
      ]
     },
     "metadata": {
      "needs_background": "light"
     },
     "output_type": "display_data"
    }
   ],
   "source": [
    "fig = plt.figure()\n",
    "ax = fig.add_subplot(111)\n",
    "plt.plot(np.arange(1, len(scores_avg)+1), scores_avg, 'r-')\n",
    "plt.plot( [0, len(scores_avg)+1], [0.5, 0.5], 'b-')\n",
    "plt.ylabel('Score')\n",
    "plt.xlabel('Episode #')\n",
    "plt.show()"
   ]
  },
  {
   "cell_type": "code",
   "execution_count": 7,
   "metadata": {},
   "outputs": [
    {
     "data": {
      "image/png": "[encoded data removed]",
      "text/plain": [
       "<Figure size 432x288 with 1 Axes>"
      ]
     },
     "metadata": {
      "needs_background": "light"
     },
     "output_type": "display_data"
    }
   ],
   "source": [
    "fig = plt.figure()\n",
    "ax = fig.add_subplot(111)\n",
    "plt.plot(np.arange(1, len(scores_avg)+1), scores_avg, 'r-')\n",
    "#plt.plot( [0, len(scores_avg)+1], [0.5, 0.5], 'b-')\n",
    "plt.ylabel('Score')\n",
    "plt.xlabel('Episode #')\n",
    "plt.show()"
   ]
  },
  {
   "cell_type": "code",
   "execution_count": 10,
   "metadata": {},
   "outputs": [
    {
     "data": {
      "image/png": "[encoded data removed]",
      "text/plain": [
       "<Figure size 432x288 with 1 Axes>"
      ]
     },
     "metadata": {
      "needs_background": "light"
     },
     "output_type": "display_data"
    }
   ],
   "source": [
    "fig = plt.figure()\n",
    "ax = fig.add_subplot(111)\n",
    "plt.plot(np.arange(1, len(scores_avg)+1), scores_avg, 'r-')\n",
    "#plt.plot( [0, len(scores_avg)+1], [0.5, 0.5], 'b-')\n",
    "plt.ylabel('Score')\n",
    "plt.xlabel('Episode #')\n",
    "plt.show()"
   ]
  },
  {
   "cell_type": "code",
   "execution_count": 17,
   "metadata": {
    "scrolled": true
   },
   "outputs": [
    {
     "data": {
      "text/plain": [
       "[0.17660000268369913,\n",
       " 0.18160000275820493,\n",
       " 0.1826000027731061,\n",
       " 0.1826000027731061,\n",
       " 0.18160000275820493,\n",
       " 0.17860000271350146,\n",
       " 0.17960000272840262,\n",
       " 0.17960000272840262,\n",
       " 0.17960000272840262,\n",
       " 0.18170000275596976,\n",
       " 0.17770000269636513,\n",
       " 0.17770000269636513,\n",
       " 0.18460000280290842,\n",
       " 0.18660000283271075,\n",
       " 0.200600003041327,\n",
       " 0.20860000316053628,\n",
       " 0.21960000332444907,\n",
       " 0.21960000332444907,\n",
       " 0.21960000332444907,\n",
       " 0.21660000327974557,\n",
       " 0.23260000351816415,\n",
       " 0.23360000353306531,\n",
       " 0.23860000360757114,\n",
       " 0.23360000353306531,\n",
       " 0.23360000353306531,\n",
       " 0.23860000360757114,\n",
       " 0.2506000037863851,\n",
       " 0.2546000038459897,\n",
       " 0.25860000390559434,\n",
       " 0.2606000039353967,\n",
       " 0.25960000392049554,\n",
       " 0.2595000039227307,\n",
       " 0.2595000039227307,\n",
       " 0.2595000039227307,\n",
       " 0.2606000039353967,\n",
       " 0.26170000394806264,\n",
       " 0.26170000394806264,\n",
       " 0.2657000040076673,\n",
       " 0.26470000399276616,\n",
       " 0.26370000397786497,\n",
       " 0.26370000397786497,\n",
       " 0.26480000399053094,\n",
       " 0.26480000399053094,\n",
       " 0.26470000399276616,\n",
       " 0.26170000394806264,\n",
       " 0.26170000394806264,\n",
       " 0.26370000397786497,\n",
       " 0.26270000396296384,\n",
       " 0.26370000397786497,\n",
       " 0.26670000402256844,\n",
       " 0.26670000402256844,\n",
       " 0.26870000405237077,\n",
       " 0.26970000406727196,\n",
       " 0.2717000040970743,\n",
       " 0.27280000410974026,\n",
       " 0.27080000407993793,\n",
       " 0.27080000407993793,\n",
       " 0.2688000040501356,\n",
       " 0.2688000040501356,\n",
       " 0.2688000040501356,\n",
       " 0.2688000040501356,\n",
       " 0.2688000040501356,\n",
       " 0.2718000040948391,\n",
       " 0.2719000040926039,\n",
       " 0.286000004298985,\n",
       " 0.2861000042967498,\n",
       " 0.31020000465214254,\n",
       " 0.3112000046670437,\n",
       " 0.31110000466927884,\n",
       " 0.3151000047288835,\n",
       " 0.31500000473111867,\n",
       " 0.32000000480562446,\n",
       " 0.32000000480562446,\n",
       " 0.3201000048033893,\n",
       " 0.31910000478848816,\n",
       " 0.343100005146116,\n",
       " 0.343100005146116,\n",
       " 0.3441000051610172,\n",
       " 0.3441000051610172,\n",
       " 0.3441000051610172,\n",
       " 0.3441000051610172,\n",
       " 0.34400000516325235,\n",
       " 0.3400000051036477,\n",
       " 0.3400000051036477,\n",
       " 0.3450000051781535,\n",
       " 0.3450000051781535,\n",
       " 0.3450000051781535,\n",
       " 0.3470000052079558,\n",
       " 0.34400000516325235,\n",
       " 0.35000000525265934,\n",
       " 0.35000000525265934,\n",
       " 0.36700000550597905,\n",
       " 0.3920000058785081,\n",
       " 0.4170000062510371,\n",
       " 0.4170000062510371,\n",
       " 0.4150000062212348,\n",
       " 0.408900006134063,\n",
       " 0.4139000062085688,\n",
       " 0.42890000643208626,\n",
       " 0.42890000643208626,\n",
       " 0.45190000677481296,\n",
       " 0.4469000067003071,\n",
       " 0.44490000667050483,\n",
       " 0.46890000702813267,\n",
       " 0.4879000073112547,\n",
       " 0.5089000076241791,\n",
       " 0.5069000075943768,\n",
       " 0.5319000079669058,\n",
       " 0.5569000083394349,\n",
       " 0.5809000086970627,\n",
       " 0.5859000087715686,\n",
       " 0.5879000088013708,\n",
       " 0.5990000089630485,\n",
       " 0.5970000089332461,\n",
       " 0.5880000087991357,\n",
       " 0.5800000086799264,\n",
       " 0.5690000085160136,\n",
       " 0.5940000088885427,\n",
       " 0.5980000089481473,\n",
       " 0.6230000093206763,\n",
       " 0.6280000093951821,\n",
       " 0.6340000094845891,\n",
       " 0.6280000093951821,\n",
       " 0.6280000093951821,\n",
       " 0.6440000096336007,\n",
       " 0.6390000095590949,\n",
       " 0.646000009663403,\n",
       " 0.6640000099316239,\n",
       " 0.6800000101700425,\n",
       " 0.6780000101402401,\n",
       " 0.6780000101402401,\n",
       " 0.7031000105105341,\n",
       " 0.7051000105403363,\n",
       " 0.7092000105977059,\n",
       " 0.7092000105977059,\n",
       " 0.7092000105977059,\n",
       " 0.7222000107914209,\n",
       " 0.7212000107765197,\n",
       " 0.7462000111490488,\n",
       " 0.74720001116395,\n",
       " 0.7572000113129616,\n",
       " 0.7592000113427639,\n",
       " 0.7592000113427639,\n",
       " 0.7633000114001334,\n",
       " 0.767300011459738,\n",
       " 0.7903000118024647,\n",
       " 0.7883000117726624,\n",
       " 0.7873000117577612,\n",
       " 0.798300011921674,\n",
       " 0.8203000122494996,\n",
       " 0.8283000123687089,\n",
       " 0.8513000127114355,\n",
       " 0.8503000126965344,\n",
       " 0.8482000126689673,\n",
       " 0.8482000126689673,\n",
       " 0.8481000126712024,\n",
       " 0.8481000126712024,\n",
       " 0.8481000126712024,\n",
       " 0.8470000126585364,\n",
       " 0.8550000127777457,\n",
       " 0.8550000127777457,\n",
       " 0.8560000127926469,\n",
       " 0.857000012807548,\n",
       " 0.8650000129267573,\n",
       " 0.8510000127181411,\n",
       " 0.8520000127330423,\n",
       " 0.8279000123776495,\n",
       " 0.8278000123798848,\n",
       " 0.8299000124074518,\n",
       " 0.8259000123478473,\n",
       " 0.826000012345612,\n",
       " 0.8209000122733414,\n",
       " 0.8208000122755766,\n",
       " 0.8238000123202801,\n",
       " 0.8238000123202801,\n",
       " 0.7988000119477511,\n",
       " 0.7987000119499862,\n",
       " 0.7977000119350851,\n",
       " 0.7978000119328499,\n",
       " 0.7978000119328499,\n",
       " 0.8068000120669603,\n",
       " 0.8068000120669603,\n",
       " 0.8088000120967627,\n",
       " 0.8089000120945274,\n",
       " 0.8039000120200217,\n",
       " 0.8040000120177865,\n",
       " 0.8040000120177865,\n",
       " 0.8100000121071935,\n",
       " 0.8140000121667981,\n",
       " 0.8040000120177865,\n",
       " 0.8220000122860074,\n",
       " 0.813000012151897,\n",
       " 0.7920000118389726,\n",
       " 0.7670000114664436,\n",
       " 0.7750000115856528,\n",
       " 0.7739000115729868,\n",
       " 0.7790000116452575,\n",
       " 0.7599000113643706,\n",
       " 0.7438000111281872,\n",
       " 0.7438000111281872,\n",
       " 0.7388000110536814,\n",
       " 0.7387000110559165,\n",
       " 0.7387000110559165,\n",
       " 0.7137000106833875,\n",
       " 0.6947000104002654,\n",
       " 0.67270001007244,\n",
       " 0.6747000101022422,\n",
       " 0.6496000097319484,\n",
       " 0.6256000093743205,\n",
       " 0.6246000093594194,\n",
       " 0.622600009329617,\n",
       " 0.6205000093020498,\n",
       " 0.6105000091530383,\n",
       " 0.6195000092871488,\n",
       " 0.6145000092126429,\n",
       " 0.614400009214878,\n",
       " 0.6394000095874071,\n",
       " 0.6404000096023083,\n",
       " 0.6564000098407269,\n",
       " 0.6394000095874071,\n",
       " 0.6404000096023083,\n",
       " 0.6594000098854303,\n",
       " 0.6674000100046397,\n",
       " 0.6664000099897385,\n",
       " 0.6504000097513198,\n",
       " 0.6594000098854303,\n",
       " 0.6654000099748373,\n",
       " 0.6424000096321106,\n",
       " 0.6224000093340873,\n",
       " 0.6374000095576048,\n",
       " 0.6624000099301338,\n",
       " 0.6364000095427036,\n",
       " 0.6464000096917153,\n",
       " 0.6534000097960234,\n",
       " 0.6534000097960234,\n",
       " 0.6523000097833573,\n",
       " 0.6403000096045435,\n",
       " 0.6603000099025667,\n",
       " 0.6353000095300376,\n",
       " 0.6603000099025667,\n",
       " 0.6493000097386539,\n",
       " 0.661200009919703,\n",
       " 0.6632000099495053]"
      ]
     },
     "execution_count": 17,
     "metadata": {},
     "output_type": "execute_result"
    }
   ],
   "source": [
    "scores_avg[2420:]"
   ]
  },
  {
   "cell_type": "code",
   "execution_count": 8,
   "metadata": {},
   "outputs": [],
   "source": [
    "env.close()"
   ]
  }
 ],
 "metadata": {
  "kernelspec": {
   "display_name": "drlnd",
   "language": "python",
   "name": "drlnd"
  },
  "language_info": {
   "codemirror_mode": {
    "name": "ipython",
    "version": 3
   },
   "file_extension": ".py",
   "mimetype": "text/x-python",
   "name": "python",
   "nbconvert_exporter": "python",
   "pygments_lexer": "ipython3",
   "version": "3.6.10"
  }
 },
 "nbformat": 4,
 "nbformat_minor": 2
}